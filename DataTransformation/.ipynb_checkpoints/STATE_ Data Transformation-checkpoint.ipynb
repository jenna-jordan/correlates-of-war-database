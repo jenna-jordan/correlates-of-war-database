{
 "cells": [
  {
   "cell_type": "markdown",
   "metadata": {},
   "source": [
    "# STATE_ Data Transformation\n",
    "\n",
    "Task: use Pandas to transform csv files into DataFrames that match desired tables for database schema\n",
    "\n",
    "Tables:\n",
    "\n",
    "- STATE_CONTIGUITY\n",
    "- STATE_RESOURCE"
   ]
  },
  {
   "cell_type": "code",
   "execution_count": 2,
   "metadata": {},
   "outputs": [],
   "source": [
    "import pandas as pd\n",
    "import numpy as np"
   ]
  },
  {
   "cell_type": "markdown",
   "metadata": {},
   "source": [
    "## Create 'STATE_CONTIGUITY' table\n",
    "\n",
    "Task: transform contdir.csv into a table with attributes:\n",
    "\n",
    "- StateA\n",
    "- StateB\n",
    "- StartDate\n",
    "- EndDate\n",
    "- StartYear\n",
    "- StartMonth\n",
    "- EndYear\n",
    "- EndMonth\n",
    "- Type\n",
    "- Notes"
   ]
  },
  {
   "cell_type": "code",
   "execution_count": 13,
   "metadata": {},
   "outputs": [],
   "source": [
    "dfStateCont = pd.read_csv('../SourceData/CorrelatesOfWar/contdir.csv', encoding = 'utf-8')"
   ]
  },
  {
   "cell_type": "code",
   "execution_count": 14,
   "metadata": {
    "scrolled": true
   },
   "outputs": [
    {
     "data": {
      "text/html": [
       "<div>\n",
       "<style scoped>\n",
       "    .dataframe tbody tr th:only-of-type {\n",
       "        vertical-align: middle;\n",
       "    }\n",
       "\n",
       "    .dataframe tbody tr th {\n",
       "        vertical-align: top;\n",
       "    }\n",
       "\n",
       "    .dataframe thead th {\n",
       "        text-align: right;\n",
       "    }\n",
       "</style>\n",
       "<table border=\"1\" class=\"dataframe\">\n",
       "  <thead>\n",
       "    <tr style=\"text-align: right;\">\n",
       "      <th></th>\n",
       "      <th>StateA</th>\n",
       "      <th>StateB</th>\n",
       "      <th>StartDate</th>\n",
       "      <th>EndDate</th>\n",
       "      <th>Type</th>\n",
       "      <th>Notes</th>\n",
       "    </tr>\n",
       "  </thead>\n",
       "  <tbody>\n",
       "    <tr>\n",
       "      <th>0</th>\n",
       "      <td>2</td>\n",
       "      <td>20</td>\n",
       "      <td>1920-01-01</td>\n",
       "      <td>NaT</td>\n",
       "      <td>1</td>\n",
       "      <td>Begins with CAN system entry</td>\n",
       "    </tr>\n",
       "    <tr>\n",
       "      <th>1</th>\n",
       "      <td>2</td>\n",
       "      <td>31</td>\n",
       "      <td>1973-07-01</td>\n",
       "      <td>NaT</td>\n",
       "      <td>4</td>\n",
       "      <td>Across Atlantic Ocean (closest=Florida-Bimini)...</td>\n",
       "    </tr>\n",
       "    <tr>\n",
       "      <th>2</th>\n",
       "      <td>2</td>\n",
       "      <td>40</td>\n",
       "      <td>1902-05-01</td>\n",
       "      <td>1906-09-01</td>\n",
       "      <td>4</td>\n",
       "      <td>Across Florida Straits (closest=Key West); beg...</td>\n",
       "    </tr>\n",
       "    <tr>\n",
       "      <th>3</th>\n",
       "      <td>2</td>\n",
       "      <td>40</td>\n",
       "      <td>1909-01-01</td>\n",
       "      <td>NaT</td>\n",
       "      <td>4</td>\n",
       "      <td>Across Florida Straits (closest=Key West); res...</td>\n",
       "    </tr>\n",
       "    <tr>\n",
       "      <th>4</th>\n",
       "      <td>2</td>\n",
       "      <td>70</td>\n",
       "      <td>1831-01-01</td>\n",
       "      <td>NaT</td>\n",
       "      <td>1</td>\n",
       "      <td>Begins with MEX system entry</td>\n",
       "    </tr>\n",
       "    <tr>\n",
       "      <th>...</th>\n",
       "      <td>...</td>\n",
       "      <td>...</td>\n",
       "      <td>...</td>\n",
       "      <td>...</td>\n",
       "      <td>...</td>\n",
       "      <td>...</td>\n",
       "    </tr>\n",
       "    <tr>\n",
       "      <th>842</th>\n",
       "      <td>946</td>\n",
       "      <td>983</td>\n",
       "      <td>1999-09-01</td>\n",
       "      <td>NaT</td>\n",
       "      <td>5</td>\n",
       "      <td>Across Pacific Ocean; begins with KIR system e...</td>\n",
       "    </tr>\n",
       "    <tr>\n",
       "      <th>843</th>\n",
       "      <td>947</td>\n",
       "      <td>950</td>\n",
       "      <td>2000-08-01</td>\n",
       "      <td>NaT</td>\n",
       "      <td>5</td>\n",
       "      <td>Across Pacific Ocean; begins with TUV system e...</td>\n",
       "    </tr>\n",
       "    <tr>\n",
       "      <th>844</th>\n",
       "      <td>950</td>\n",
       "      <td>955</td>\n",
       "      <td>1999-08-01</td>\n",
       "      <td>NaT</td>\n",
       "      <td>5</td>\n",
       "      <td>Across Pacific Ocean; begins with TON system e...</td>\n",
       "    </tr>\n",
       "    <tr>\n",
       "      <th>845</th>\n",
       "      <td>955</td>\n",
       "      <td>990</td>\n",
       "      <td>1999-08-01</td>\n",
       "      <td>NaT</td>\n",
       "      <td>5</td>\n",
       "      <td>Across Pacific Ocean; begins with TON system e...</td>\n",
       "    </tr>\n",
       "    <tr>\n",
       "      <th>846</th>\n",
       "      <td>986</td>\n",
       "      <td>987</td>\n",
       "      <td>1994-11-01</td>\n",
       "      <td>NaT</td>\n",
       "      <td>4</td>\n",
       "      <td>Across Pacific Ocean; begins with PAL system e...</td>\n",
       "    </tr>\n",
       "  </tbody>\n",
       "</table>\n",
       "<p>847 rows × 6 columns</p>\n",
       "</div>"
      ],
      "text/plain": [
       "     StateA  StateB  StartDate    EndDate  Type  \\\n",
       "0         2      20 1920-01-01        NaT     1   \n",
       "1         2      31 1973-07-01        NaT     4   \n",
       "2         2      40 1902-05-01 1906-09-01     4   \n",
       "3         2      40 1909-01-01        NaT     4   \n",
       "4         2      70 1831-01-01        NaT     1   \n",
       "..      ...     ...        ...        ...   ...   \n",
       "842     946     983 1999-09-01        NaT     5   \n",
       "843     947     950 2000-08-01        NaT     5   \n",
       "844     950     955 1999-08-01        NaT     5   \n",
       "845     955     990 1999-08-01        NaT     5   \n",
       "846     986     987 1994-11-01        NaT     4   \n",
       "\n",
       "                                                 Notes  \n",
       "0                         Begins with CAN system entry  \n",
       "1    Across Atlantic Ocean (closest=Florida-Bimini)...  \n",
       "2    Across Florida Straits (closest=Key West); beg...  \n",
       "3    Across Florida Straits (closest=Key West); res...  \n",
       "4                         Begins with MEX system entry  \n",
       "..                                                 ...  \n",
       "842  Across Pacific Ocean; begins with KIR system e...  \n",
       "843  Across Pacific Ocean; begins with TUV system e...  \n",
       "844  Across Pacific Ocean; begins with TON system e...  \n",
       "845  Across Pacific Ocean; begins with TON system e...  \n",
       "846  Across Pacific Ocean; begins with PAL system e...  \n",
       "\n",
       "[847 rows x 6 columns]"
      ]
     },
     "execution_count": 14,
     "metadata": {},
     "output_type": "execute_result"
    }
   ],
   "source": [
    "dfStateCont = dfStateCont.rename(columns={\"statelno\": \"StateA\", \"statehno\": \"StateB\", \"conttype\": \"Type\", \"notes\": \"Notes\", \"begin\": \"StartDate\", \"end\": \"EndDate\"})\n",
    "\n",
    "dfStateCont['StartDate'] = pd.to_datetime(dfStateCont['StartDate'], format='%Y%m')\n",
    "dfStateCont['EndDate'] = pd.to_datetime(dfStateCont['EndDate'], format='%Y%m')\n",
    "dfStateCont['EndDate'] = dfStateCont['EndDate'].replace(pd.Timestamp('2016-12-01'), pd.NaT)\n",
    "\n",
    "dfStateCont = dfStateCont[['StateA', 'StateB', 'StartDate', 'EndDate', 'Type', 'Notes']]\n",
    "dfStateCont"
   ]
  },
  {
   "cell_type": "code",
   "execution_count": 6,
   "metadata": {},
   "outputs": [],
   "source": [
    "dfStateCont.to_csv('../FinalData/state_contiguity.csv', encoding='utf-8', index=False)"
   ]
  },
  {
   "cell_type": "markdown",
   "metadata": {},
   "source": [
    "## Create 'STATE_RESOURCE' table\n",
    "\n",
    "Task: transform NMC_5_0-wsupplementary.csv into a table with attributes:\n",
    "\n",
    "- StateID\n",
    "- Year\n",
    "- ResourceID\n",
    "- Amount\n",
    "- Source\n",
    "- Note\n",
    "- QualityCode\n",
    "- AnomalyCode"
   ]
  },
  {
   "cell_type": "code",
   "execution_count": 30,
   "metadata": {},
   "outputs": [],
   "source": [
    "dfResources = pd.read_csv('../SourceData/CorrelatesOfWar/NMC_5_0-wsupplementary.csv', encoding='utf-8', na_values=[-7, -8, -9])"
   ]
  },
  {
   "cell_type": "code",
   "execution_count": 31,
   "metadata": {},
   "outputs": [
    {
     "data": {
      "text/plain": [
       "Index(['statenme', 'stateabb', 'ccode', 'year', 'milex', 'milexsource',\n",
       "       'milexnote', 'milper', 'milpersource', 'milpernote', 'irst',\n",
       "       'irstsource', 'irstnote', 'irstqualitycode', 'irstanomalycode', 'pec',\n",
       "       'pecsource', 'pecnote', 'pecqualitycode', 'pecanomalycode', 'tpop',\n",
       "       'tpopsource', 'tpopnote', 'tpopqualitycode', 'tpopanomalycode', 'upop',\n",
       "       'upopsource', 'upopnote', 'upopqualitycode', 'upopanomalycode',\n",
       "       'upopgrowth', 'upopgrowthsource', 'cinc', 'version'],\n",
       "      dtype='object')"
      ]
     },
     "execution_count": 31,
     "metadata": {},
     "output_type": "execute_result"
    }
   ],
   "source": [
    "dfResources.columns"
   ]
  },
  {
   "cell_type": "code",
   "execution_count": 32,
   "metadata": {},
   "outputs": [],
   "source": [
    "dfResMilex = dfResources[['ccode', 'year', 'milex', 'milexsource', 'milexnote']].copy() \\\n",
    ".rename(columns={'ccode':'StateID', 'year':'Year', 'milex':'Amount', 'milexsource':'Source', 'milexnote':'Note'})\n",
    "\n",
    "dfResMilPer = dfResources[['ccode', 'year', 'milper', 'milpersource', 'milpernote']].copy() \\\n",
    ".rename(columns={'ccode':'StateID', 'year':'Year', 'milper':'Amount', 'milpersource':'Source', 'milpernote':'Note'})\n",
    "\n",
    "dfResIrst = dfResources[['ccode', 'year', 'irst','irstsource', 'irstnote', 'irstqualitycode', 'irstanomalycode']].copy() \\\n",
    ".rename(columns={'ccode':'StateID', 'year':'Year', 'irst':'Amount', 'irstsource':'Source', 'irstnote':'Note', 'irstqualitycode':'QualityCode', 'irstanomalycode':'AnomalyCode'})\n",
    "\n",
    "dfResPec = dfResources[['ccode', 'year', 'pec', 'pecsource', 'pecnote', 'pecqualitycode', 'pecanomalycode']].copy() \\\n",
    ".rename(columns={'ccode':'StateID', 'year':'Year', 'pec':'Amount', 'pecsource':'Source', 'pecnote':'Note', 'pecqualitycode':'QualityCode', 'pecanomalycode':'AnomalyCode'})\n",
    "\n",
    "dfResTpop = dfResources[['ccode', 'year', 'tpop', 'tpopsource', 'tpopnote', 'tpopqualitycode', 'tpopanomalycode']].copy() \\\n",
    ".rename(columns={'ccode':'StateID', 'year':'Year', 'tpop':'Amount', 'tpopsource':'Source', 'tpopnote':'Note', 'tpopqualitycode':'QualityCode', 'tpopanomalycode':'AnomalyCode'})\n",
    "\n",
    "dfResUpop = dfResources[['ccode', 'year', 'upop', 'upopsource', 'upopnote', 'upopqualitycode', 'upopanomalycode']].copy() \\\n",
    ".rename(columns={'ccode':'StateID', 'year':'Year', 'upop':'Amount', 'upopsource':'Source', 'upopnote':'Note', 'upopqualitycode':'QualityCode', 'upopanomalycode':'AnomalyCode'})\n",
    "\n",
    "dfResUpgrowth = dfResources[['ccode', 'year', 'upopgrowth', 'upopgrowthsource']].copy() \\\n",
    ".rename(columns={'ccode':'StateID', 'year':'Year', 'upopgrowth':'Amount', 'upopgrowthsource':'Source'})"
   ]
  },
  {
   "cell_type": "code",
   "execution_count": 33,
   "metadata": {
    "scrolled": true
   },
   "outputs": [],
   "source": [
    "dfResMilex['ResourceID'] = 'milex'\n",
    "dfResMilPer['ResourceID'] = 'milper'\n",
    "dfResIrst['ResourceID'] = 'irst'\n",
    "dfResPec['ResourceID'] = 'pec'\n",
    "dfResTpop['ResourceID'] = 'tpop'\n",
    "dfResUpop['ResourceID'] = 'upop'\n",
    "dfResUpgrowth['ResourceID'] = 'upopgrowth'"
   ]
  },
  {
   "cell_type": "code",
   "execution_count": 34,
   "metadata": {
    "scrolled": true
   },
   "outputs": [
    {
     "data": {
      "text/html": [
       "<div>\n",
       "<style scoped>\n",
       "    .dataframe tbody tr th:only-of-type {\n",
       "        vertical-align: middle;\n",
       "    }\n",
       "\n",
       "    .dataframe tbody tr th {\n",
       "        vertical-align: top;\n",
       "    }\n",
       "\n",
       "    .dataframe thead th {\n",
       "        text-align: right;\n",
       "    }\n",
       "</style>\n",
       "<table border=\"1\" class=\"dataframe\">\n",
       "  <thead>\n",
       "    <tr style=\"text-align: right;\">\n",
       "      <th></th>\n",
       "      <th>Amount</th>\n",
       "      <th>AnomalyCode</th>\n",
       "      <th>Note</th>\n",
       "      <th>QualityCode</th>\n",
       "      <th>ResourceID</th>\n",
       "      <th>Source</th>\n",
       "      <th>StateID</th>\n",
       "      <th>Year</th>\n",
       "    </tr>\n",
       "  </thead>\n",
       "  <tbody>\n",
       "    <tr>\n",
       "      <th>0</th>\n",
       "      <td>3823.0</td>\n",
       "      <td>NaN</td>\n",
       "      <td>NaN</td>\n",
       "      <td>NaN</td>\n",
       "      <td>milex</td>\n",
       "      <td>NaN</td>\n",
       "      <td>2</td>\n",
       "      <td>1816</td>\n",
       "    </tr>\n",
       "    <tr>\n",
       "      <th>1</th>\n",
       "      <td>2466.0</td>\n",
       "      <td>NaN</td>\n",
       "      <td>NaN</td>\n",
       "      <td>NaN</td>\n",
       "      <td>milex</td>\n",
       "      <td>NaN</td>\n",
       "      <td>2</td>\n",
       "      <td>1817</td>\n",
       "    </tr>\n",
       "    <tr>\n",
       "      <th>2</th>\n",
       "      <td>1910.0</td>\n",
       "      <td>NaN</td>\n",
       "      <td>NaN</td>\n",
       "      <td>NaN</td>\n",
       "      <td>milex</td>\n",
       "      <td>NaN</td>\n",
       "      <td>2</td>\n",
       "      <td>1818</td>\n",
       "    </tr>\n",
       "    <tr>\n",
       "      <th>3</th>\n",
       "      <td>2301.0</td>\n",
       "      <td>NaN</td>\n",
       "      <td>NaN</td>\n",
       "      <td>NaN</td>\n",
       "      <td>milex</td>\n",
       "      <td>NaN</td>\n",
       "      <td>2</td>\n",
       "      <td>1819</td>\n",
       "    </tr>\n",
       "    <tr>\n",
       "      <th>4</th>\n",
       "      <td>1556.0</td>\n",
       "      <td>NaN</td>\n",
       "      <td>NaN</td>\n",
       "      <td>NaN</td>\n",
       "      <td>milex</td>\n",
       "      <td>NaN</td>\n",
       "      <td>2</td>\n",
       "      <td>1820</td>\n",
       "    </tr>\n",
       "    <tr>\n",
       "      <th>...</th>\n",
       "      <td>...</td>\n",
       "      <td>...</td>\n",
       "      <td>...</td>\n",
       "      <td>...</td>\n",
       "      <td>...</td>\n",
       "      <td>...</td>\n",
       "      <td>...</td>\n",
       "      <td>...</td>\n",
       "    </tr>\n",
       "    <tr>\n",
       "      <th>15166</th>\n",
       "      <td>NaN</td>\n",
       "      <td>NaN</td>\n",
       "      <td>NaN</td>\n",
       "      <td>NaN</td>\n",
       "      <td>upopgrowth</td>\n",
       "      <td>NaN</td>\n",
       "      <td>990</td>\n",
       "      <td>2008</td>\n",
       "    </tr>\n",
       "    <tr>\n",
       "      <th>15167</th>\n",
       "      <td>NaN</td>\n",
       "      <td>NaN</td>\n",
       "      <td>NaN</td>\n",
       "      <td>NaN</td>\n",
       "      <td>upopgrowth</td>\n",
       "      <td>NaN</td>\n",
       "      <td>990</td>\n",
       "      <td>2009</td>\n",
       "    </tr>\n",
       "    <tr>\n",
       "      <th>15168</th>\n",
       "      <td>NaN</td>\n",
       "      <td>NaN</td>\n",
       "      <td>NaN</td>\n",
       "      <td>NaN</td>\n",
       "      <td>upopgrowth</td>\n",
       "      <td>NaN</td>\n",
       "      <td>990</td>\n",
       "      <td>2010</td>\n",
       "    </tr>\n",
       "    <tr>\n",
       "      <th>15169</th>\n",
       "      <td>NaN</td>\n",
       "      <td>NaN</td>\n",
       "      <td>NaN</td>\n",
       "      <td>NaN</td>\n",
       "      <td>upopgrowth</td>\n",
       "      <td>NaN</td>\n",
       "      <td>990</td>\n",
       "      <td>2011</td>\n",
       "    </tr>\n",
       "    <tr>\n",
       "      <th>15170</th>\n",
       "      <td>NaN</td>\n",
       "      <td>NaN</td>\n",
       "      <td>NaN</td>\n",
       "      <td>NaN</td>\n",
       "      <td>upopgrowth</td>\n",
       "      <td>NaN</td>\n",
       "      <td>990</td>\n",
       "      <td>2012</td>\n",
       "    </tr>\n",
       "  </tbody>\n",
       "</table>\n",
       "<p>106197 rows × 8 columns</p>\n",
       "</div>"
      ],
      "text/plain": [
       "       Amount AnomalyCode Note QualityCode  ResourceID Source  StateID  Year\n",
       "0      3823.0         NaN  NaN         NaN       milex    NaN        2  1816\n",
       "1      2466.0         NaN  NaN         NaN       milex    NaN        2  1817\n",
       "2      1910.0         NaN  NaN         NaN       milex    NaN        2  1818\n",
       "3      2301.0         NaN  NaN         NaN       milex    NaN        2  1819\n",
       "4      1556.0         NaN  NaN         NaN       milex    NaN        2  1820\n",
       "...       ...         ...  ...         ...         ...    ...      ...   ...\n",
       "15166     NaN         NaN  NaN         NaN  upopgrowth    NaN      990  2008\n",
       "15167     NaN         NaN  NaN         NaN  upopgrowth    NaN      990  2009\n",
       "15168     NaN         NaN  NaN         NaN  upopgrowth    NaN      990  2010\n",
       "15169     NaN         NaN  NaN         NaN  upopgrowth    NaN      990  2011\n",
       "15170     NaN         NaN  NaN         NaN  upopgrowth    NaN      990  2012\n",
       "\n",
       "[106197 rows x 8 columns]"
      ]
     },
     "execution_count": 34,
     "metadata": {},
     "output_type": "execute_result"
    }
   ],
   "source": [
    "resources = [dfResMilex, dfResMilPer, dfResIrst, dfResPec, dfResTpop, dfResUpop, dfResUpgrowth]\n",
    "dfstateresources = pd.concat(resources, sort=True)\n",
    "dfstateresources"
   ]
  },
  {
   "cell_type": "code",
   "execution_count": 35,
   "metadata": {},
   "outputs": [
    {
     "data": {
      "text/plain": [
       "array([nan, 'A', 'D', 'B', 'C',\n",
       "       'Assumed component zero values used in PEC computation for NMC 5.0.',\n",
       "       'E', 'F'], dtype=object)"
      ]
     },
     "execution_count": 35,
     "metadata": {},
     "output_type": "execute_result"
    }
   ],
   "source": [
    "dfstateresources.AnomalyCode.unique()"
   ]
  },
  {
   "cell_type": "code",
   "execution_count": 36,
   "metadata": {},
   "outputs": [
    {
     "data": {
      "text/plain": [
       "array([nan, 'A', 'D', 'B', 'C', '0', 'E', 'F'], dtype=object)"
      ]
     },
     "execution_count": 36,
     "metadata": {},
     "output_type": "execute_result"
    }
   ],
   "source": [
    "dfstateresources['AnomalyCode'] = dfstateresources['AnomalyCode'].replace('Assumed component zero values used in PEC computation for NMC 5.0.', '0')\n",
    "dfstateresources.AnomalyCode.unique()"
   ]
  },
  {
   "cell_type": "code",
   "execution_count": 37,
   "metadata": {},
   "outputs": [],
   "source": [
    "dfstateresources = dfstateresources[['StateID', 'Year', 'ResourceID', 'Amount', 'Source', 'Note', 'QualityCode', 'AnomalyCode']]"
   ]
  },
  {
   "cell_type": "code",
   "execution_count": 38,
   "metadata": {},
   "outputs": [],
   "source": [
    "dfstateresources.to_csv('../FinalData/state_resource.csv', encoding='utf-8', index=False)"
   ]
  }
 ],
 "metadata": {
  "kernelspec": {
   "display_name": "Python 3",
   "language": "python",
   "name": "python3"
  },
  "language_info": {
   "codemirror_mode": {
    "name": "ipython",
    "version": 3
   },
   "file_extension": ".py",
   "mimetype": "text/x-python",
   "name": "python",
   "nbconvert_exporter": "python",
   "pygments_lexer": "ipython3",
   "version": "3.8.0"
  }
 },
 "nbformat": 4,
 "nbformat_minor": 4
}
