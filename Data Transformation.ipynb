{
 "cells": [
  {
   "cell_type": "code",
   "execution_count": 1,
   "metadata": {},
   "outputs": [],
   "source": [
    "import pandas as pd"
   ]
  },
  {
   "cell_type": "code",
   "execution_count": 5,
   "metadata": {},
   "outputs": [
    {
     "name": "stdout",
     "output_type": "stream",
     "text": [
      "\u001b[34mCodebooks\u001b[m\u001b[m                    MID_Narratives_2002-2010.pdf\r\n",
      "CowWarList.pdf               NMC_5_0-wsupplementary.csv\r\n",
      "\u001b[31mEntities.pdf\u001b[m\u001b[m                 Non-StateWarData_v4.0.csv\r\n",
      "Extra-StateWarData_v4.0.csv  alliance_v4.1_by_member.csv\r\n",
      "IGO_stateunit_v2.3.csv       contdir.csv\r\n",
      "Inter-StateWarData_v4.0.csv  igounit_v2.3.csv\r\n",
      "Intra-StateWarData_v4.1.csv  majors2016.csv\r\n",
      "\u001b[31mMIDA_4.2.csv\u001b[m\u001b[m                 states2016.csv\r\n",
      "\u001b[31mMIDB_4.2.csv\u001b[m\u001b[m                 system2016.csv\r\n",
      "\u001b[31mMIDLOCA_2.0.csv\u001b[m\u001b[m              tc2014.csv\r\n",
      "MID_Narratives_1993-2001.pdf\r\n"
     ]
    }
   ],
   "source": [
    "!ls Source\\ Data/Correlates\\ of\\ War/"
   ]
  },
  {
   "cell_type": "code",
   "execution_count": 9,
   "metadata": {},
   "outputs": [
    {
     "ename": "SyntaxError",
     "evalue": "unexpected character after line continuation character (<ipython-input-9-b3a380862c85>, line 1)",
     "output_type": "error",
     "traceback": [
      "\u001b[0;36m  File \u001b[0;32m\"<ipython-input-9-b3a380862c85>\"\u001b[0;36m, line \u001b[0;32m1\u001b[0m\n\u001b[0;31m    dfStates = pd.read_csv(Source\\ Data/Correlates\\ of\\ War/states2016.csv)\u001b[0m\n\u001b[0m                                                                           ^\u001b[0m\n\u001b[0;31mSyntaxError\u001b[0m\u001b[0;31m:\u001b[0m unexpected character after line continuation character\n"
     ]
    }
   ],
   "source": [
    "dfStates = pd.read_csv(Source\\ Data/Correlates\\ of\\ War/states2016.csv)\n",
    "dfStates"
   ]
  },
  {
   "cell_type": "code",
   "execution_count": null,
   "metadata": {},
   "outputs": [],
   "source": []
  }
 ],
 "metadata": {
  "kernelspec": {
   "display_name": "Python 3",
   "language": "python",
   "name": "python3"
  },
  "language_info": {
   "codemirror_mode": {
    "name": "ipython",
    "version": 3
   },
   "file_extension": ".py",
   "mimetype": "text/x-python",
   "name": "python",
   "nbconvert_exporter": "python",
   "pygments_lexer": "ipython3",
   "version": "3.6.5"
  }
 },
 "nbformat": 4,
 "nbformat_minor": 2
}
